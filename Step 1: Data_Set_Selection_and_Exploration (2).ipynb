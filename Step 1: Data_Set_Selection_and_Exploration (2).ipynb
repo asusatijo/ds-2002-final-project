{
  "nbformat": 4,
  "nbformat_minor": 0,
  "metadata": {
    "colab": {
      "provenance": []
    },
    "kernelspec": {
      "name": "python3",
      "display_name": "Python 3"
    },
    "language_info": {
      "name": "python"
    }
  },
  "cells": [
    {
      "cell_type": "markdown",
      "source": [
        "**Data Set Selection and Exploration**"
      ],
      "metadata": {
        "id": "Jl06PkYD05HV"
      }
    },
    {
      "cell_type": "code",
      "source": [
        "import pandas as pd\n",
        "\n",
        "df = pd.read_csv('/content/OzoneNational.csv')\n",
        "\n",
        "print(df)"
      ],
      "metadata": {
        "colab": {
          "base_uri": "https://localhost:8080/"
        },
        "id": "83RMAGaQ5iw5",
        "outputId": "d6974de5-a578-4f45-9aa0-0c787188a7e9"
      },
      "execution_count": null,
      "outputs": [
        {
          "output_type": "stream",
          "name": "stdout",
          "text": [
            "    Year      Mean  Number of Trend Sites  10th Percentile  90th Percentile  \\\n",
            "0   1980  0.094925                    134            0.070            0.116   \n",
            "1   1981  0.092347                    134            0.071            0.115   \n",
            "2   1982  0.090713                    134            0.069            0.115   \n",
            "3   1983  0.098052                    134            0.071            0.122   \n",
            "4   1984  0.089019                    134            0.068            0.112   \n",
            "5   1985  0.088769                    134            0.071            0.108   \n",
            "6   1986  0.087888                    134            0.069            0.104   \n",
            "7   1987  0.092200                    134            0.074            0.113   \n",
            "8   1988  0.102177                    134            0.076            0.124   \n",
            "9   1989  0.086660                    134            0.071            0.104   \n",
            "10  1990  0.088080                    134            0.073            0.106   \n",
            "11  1991  0.088118                    134            0.069            0.110   \n",
            "12  1992  0.081757                    134            0.069            0.095   \n",
            "13  1993  0.083740                    134            0.065            0.100   \n",
            "14  1994  0.084633                    134            0.070            0.097   \n",
            "15  1995  0.089701                    134            0.073            0.107   \n",
            "16  1996  0.085284                    134            0.072            0.096   \n",
            "17  1997  0.084925                    134            0.069            0.103   \n",
            "18  1998  0.090063                    134            0.072            0.104   \n",
            "19  1999  0.088649                    134            0.074            0.104   \n",
            "20  2000  0.081220                    134            0.067            0.096   \n",
            "21  2001  0.083675                    134            0.072            0.098   \n",
            "22  2002  0.089228                    134            0.072            0.104   \n",
            "23  2003  0.082888                    134            0.071            0.094   \n",
            "24  2004  0.074112                    134            0.064            0.083   \n",
            "25  2005  0.080377                    134            0.065            0.092   \n",
            "26  2006  0.078563                    134            0.068            0.090   \n",
            "27  2007  0.079642                    134            0.068            0.092   \n",
            "28  2008  0.074090                    134            0.065            0.084   \n",
            "29  2009  0.069082                    134            0.062            0.075   \n",
            "30  2010  0.072634                    134            0.064            0.081   \n",
            "31  2011  0.074119                    134            0.064            0.085   \n",
            "32  2012  0.076530                    134            0.064            0.087   \n",
            "33  2013  0.066918                    134            0.059            0.076   \n",
            "34  2014  0.067184                    134            0.061            0.074   \n",
            "35  2015  0.067947                    134            0.060            0.076   \n",
            "36  2016  0.069142                    134            0.062            0.075   \n",
            "37  2017  0.068123                    134            0.061            0.076   \n",
            "38  2018  0.069448                    134            0.061            0.077   \n",
            "39  2019  0.065474                    134            0.058            0.073   \n",
            "40  2020  0.065835                    134            0.055            0.075   \n",
            "41  2021  0.066983                    134            0.059            0.078   \n",
            "42  2022  0.066851                    134            0.059            0.074   \n",
            "43  2023  0.069918                    134            0.060            0.079   \n",
            "\n",
            "   Units  \n",
            "0    ppm  \n",
            "1    ppm  \n",
            "2    ppm  \n",
            "3    ppm  \n",
            "4    ppm  \n",
            "5    ppm  \n",
            "6    ppm  \n",
            "7    ppm  \n",
            "8    ppm  \n",
            "9    ppm  \n",
            "10   ppm  \n",
            "11   ppm  \n",
            "12   ppm  \n",
            "13   ppm  \n",
            "14   ppm  \n",
            "15   ppm  \n",
            "16   ppm  \n",
            "17   ppm  \n",
            "18   ppm  \n",
            "19   ppm  \n",
            "20   ppm  \n",
            "21   ppm  \n",
            "22   ppm  \n",
            "23   ppm  \n",
            "24   ppm  \n",
            "25   ppm  \n",
            "26   ppm  \n",
            "27   ppm  \n",
            "28   ppm  \n",
            "29   ppm  \n",
            "30   ppm  \n",
            "31   ppm  \n",
            "32   ppm  \n",
            "33   ppm  \n",
            "34   ppm  \n",
            "35   ppm  \n",
            "36   ppm  \n",
            "37   ppm  \n",
            "38   ppm  \n",
            "39   ppm  \n",
            "40   ppm  \n",
            "41   ppm  \n",
            "42   ppm  \n",
            "43   ppm  \n"
          ]
        }
      ]
    },
    {
      "cell_type": "markdown",
      "source": [
        "Summary of Air Quality Data"
      ],
      "metadata": {
        "id": "BV9BIJ3J-a8l"
      }
    },
    {
      "cell_type": "code",
      "source": [
        "import pandas as pd\n",
        "\n",
        "df = pd.read_csv('/content/OzoneNational.csv')\n",
        "\n",
        "df.dropna(inplace=True)  # Removes all rows with any NaN\n",
        "df.dropna(axis=1, inplace=True)  # Removes columns with NaN\n",
        "\n",
        "print(\"First 5 rows of the data:\")\n",
        "print(df.head())\n",
        "\n",
        "print(\"\\nDataFrame Information:\")\n",
        "df.info()\n",
        "\n",
        "print(\"\\nSummary Statistics (Numerical Data):\")\n",
        "print(df.describe())\n",
        "\n",
        "print(\"\\nSummary Statistics (All Data):\")\n",
        "print(df.describe(include='all'))"
      ],
      "metadata": {
        "colab": {
          "base_uri": "https://localhost:8080/"
        },
        "id": "2rOnRr8q8rRK",
        "outputId": "c8f19cf2-cd31-4085-f770-56cfaadd64c1"
      },
      "execution_count": null,
      "outputs": [
        {
          "output_type": "stream",
          "name": "stdout",
          "text": [
            "First 5 rows of the data:\n",
            "   Year      Mean  Number of Trend Sites  10th Percentile  90th Percentile  \\\n",
            "0  1980  0.094925                    134            0.070            0.116   \n",
            "1  1981  0.092347                    134            0.071            0.115   \n",
            "2  1982  0.090713                    134            0.069            0.115   \n",
            "3  1983  0.098052                    134            0.071            0.122   \n",
            "4  1984  0.089019                    134            0.068            0.112   \n",
            "\n",
            "  Units  \n",
            "0   ppm  \n",
            "1   ppm  \n",
            "2   ppm  \n",
            "3   ppm  \n",
            "4   ppm  \n",
            "\n",
            "DataFrame Information:\n",
            "<class 'pandas.core.frame.DataFrame'>\n",
            "RangeIndex: 44 entries, 0 to 43\n",
            "Data columns (total 6 columns):\n",
            " #   Column                 Non-Null Count  Dtype  \n",
            "---  ------                 --------------  -----  \n",
            " 0   Year                   44 non-null     int64  \n",
            " 1   Mean                   44 non-null     float64\n",
            " 2   Number of Trend Sites  44 non-null     int64  \n",
            " 3   10th Percentile        44 non-null     float64\n",
            " 4   90th Percentile        44 non-null     float64\n",
            " 5   Units                  44 non-null     object \n",
            "dtypes: float64(3), int64(2), object(1)\n",
            "memory usage: 2.2+ KB\n",
            "\n",
            "Summary Statistics (Numerical Data):\n",
            "              Year       Mean  Number of Trend Sites  10th Percentile  \\\n",
            "count    44.000000  44.000000                   44.0        44.000000   \n",
            "mean   2001.500000   0.080629                  134.0         0.066750   \n",
            "std      12.845233   0.010004                    0.0         0.005261   \n",
            "min    1980.000000   0.065474                  134.0         0.055000   \n",
            "25%    1990.750000   0.069800                  134.0         0.062000   \n",
            "50%    2001.500000   0.082323                  134.0         0.068000   \n",
            "75%    2012.250000   0.088679                  134.0         0.071000   \n",
            "max    2023.000000   0.102177                  134.0         0.076000   \n",
            "\n",
            "       90th Percentile  \n",
            "count        44.000000  \n",
            "mean          0.094295  \n",
            "std           0.015064  \n",
            "min           0.073000  \n",
            "25%           0.078750  \n",
            "50%           0.095500  \n",
            "75%           0.104500  \n",
            "max           0.124000  \n",
            "\n",
            "Summary Statistics (All Data):\n",
            "               Year       Mean  Number of Trend Sites  10th Percentile  \\\n",
            "count     44.000000  44.000000                   44.0        44.000000   \n",
            "unique          NaN        NaN                    NaN              NaN   \n",
            "top             NaN        NaN                    NaN              NaN   \n",
            "freq            NaN        NaN                    NaN              NaN   \n",
            "mean    2001.500000   0.080629                  134.0         0.066750   \n",
            "std       12.845233   0.010004                    0.0         0.005261   \n",
            "min     1980.000000   0.065474                  134.0         0.055000   \n",
            "25%     1990.750000   0.069800                  134.0         0.062000   \n",
            "50%     2001.500000   0.082323                  134.0         0.068000   \n",
            "75%     2012.250000   0.088679                  134.0         0.071000   \n",
            "max     2023.000000   0.102177                  134.0         0.076000   \n",
            "\n",
            "        90th Percentile Units  \n",
            "count         44.000000    44  \n",
            "unique              NaN     1  \n",
            "top                 NaN   ppm  \n",
            "freq                NaN    44  \n",
            "mean           0.094295   NaN  \n",
            "std            0.015064   NaN  \n",
            "min            0.073000   NaN  \n",
            "25%            0.078750   NaN  \n",
            "50%            0.095500   NaN  \n",
            "75%            0.104500   NaN  \n",
            "max            0.124000   NaN  \n"
          ]
        }
      ]
    },
    {
      "cell_type": "markdown",
      "source": [
        "Carbon Emissions"
      ],
      "metadata": {
        "id": "CW2tJGQ3-gK1"
      }
    },
    {
      "cell_type": "code",
      "source": [
        "import pandas as pd\n",
        "\n",
        "df = pd.read_csv('/content/co2_annmean_gl.csv')\n",
        "\n",
        "print(df)"
      ],
      "metadata": {
        "colab": {
          "base_uri": "https://localhost:8080/"
        },
        "id": "b0wbbjwh7mAr",
        "outputId": "8b2f7463-8a70-4061-b5bc-9e23960bb5eb"
      },
      "execution_count": null,
      "outputs": [
        {
          "output_type": "stream",
          "name": "stdout",
          "text": [
            "    year    mean   unc\n",
            "0   1979  336.85  0.11\n",
            "1   1980  338.91  0.07\n",
            "2   1981  340.11  0.09\n",
            "3   1982  340.86  0.03\n",
            "4   1983  342.53  0.06\n",
            "5   1984  344.07  0.08\n",
            "6   1985  345.54  0.07\n",
            "7   1986  346.97  0.07\n",
            "8   1987  348.68  0.10\n",
            "9   1988  351.16  0.07\n",
            "10  1989  352.79  0.07\n",
            "11  1990  354.05  0.07\n",
            "12  1991  355.39  0.07\n",
            "13  1992  356.09  0.06\n",
            "14  1993  356.83  0.07\n",
            "15  1994  358.33  0.08\n",
            "16  1995  360.17  0.05\n",
            "17  1996  361.93  0.04\n",
            "18  1997  363.05  0.05\n",
            "19  1998  365.70  0.04\n",
            "20  1999  367.80  0.05\n",
            "21  2000  368.96  0.06\n",
            "22  2001  370.57  0.05\n",
            "23  2002  372.58  0.04\n",
            "24  2003  375.15  0.04\n",
            "25  2004  376.95  0.06\n",
            "26  2005  378.98  0.05\n",
            "27  2006  381.15  0.05\n",
            "28  2007  382.90  0.04\n",
            "29  2008  385.02  0.05\n",
            "30  2009  386.50  0.04\n",
            "31  2010  388.75  0.06\n",
            "32  2011  390.62  0.05\n",
            "33  2012  392.65  0.06\n",
            "34  2013  395.40  0.06\n",
            "35  2014  397.34  0.05\n",
            "36  2015  399.65  0.05\n",
            "37  2016  403.06  0.06\n",
            "38  2017  405.22  0.07\n",
            "39  2018  407.61  0.07\n",
            "40  2019  410.07  0.07\n",
            "41  2020  412.44  0.06\n",
            "42  2021  414.70  0.07\n",
            "43  2022  417.08  0.07\n",
            "44  2023  419.32  0.15\n"
          ]
        }
      ]
    },
    {
      "cell_type": "markdown",
      "source": [
        "Summary of Carbon Emissions Data"
      ],
      "metadata": {
        "id": "ZEyBeMlZ-k8o"
      }
    },
    {
      "cell_type": "code",
      "source": [
        "import pandas as pd\n",
        "\n",
        "df = pd.read_csv('/content/co2_annmean_gl.csv')\n",
        "\n",
        "print(\"First 5 rows of the data:\")\n",
        "print(df.head())\n",
        "\n",
        "print(\"\\nDataFrame Information:\")\n",
        "df.info()\n",
        "\n",
        "print(\"\\nSummary Statistics (Numerical Data):\")\n",
        "print(df.describe())\n",
        "\n",
        "print(\"\\nSummary Statistics (All Data):\")\n",
        "print(df.describe(include='all'))"
      ],
      "metadata": {
        "colab": {
          "base_uri": "https://localhost:8080/"
        },
        "id": "XeFP6eFN-NBk",
        "outputId": "5f426bb4-c3b9-471a-fb59-04ccccd76a54"
      },
      "execution_count": null,
      "outputs": [
        {
          "output_type": "stream",
          "name": "stdout",
          "text": [
            "First 5 rows of the data:\n",
            "   year    mean   unc\n",
            "0  1979  336.85  0.11\n",
            "1  1980  338.91  0.07\n",
            "2  1981  340.11  0.09\n",
            "3  1982  340.86  0.03\n",
            "4  1983  342.53  0.06\n",
            "\n",
            "DataFrame Information:\n",
            "<class 'pandas.core.frame.DataFrame'>\n",
            "RangeIndex: 45 entries, 0 to 44\n",
            "Data columns (total 3 columns):\n",
            " #   Column  Non-Null Count  Dtype  \n",
            "---  ------  --------------  -----  \n",
            " 0   year    45 non-null     int64  \n",
            " 1   mean    45 non-null     float64\n",
            " 2   unc     45 non-null     float64\n",
            "dtypes: float64(2), int64(1)\n",
            "memory usage: 1.2 KB\n",
            "\n",
            "Summary Statistics (Numerical Data):\n",
            "              year        mean        unc\n",
            "count    45.000000   45.000000  45.000000\n",
            "mean   2001.000000  373.788444   0.062889\n",
            "std      13.133926   24.468572   0.020848\n",
            "min    1979.000000  336.850000   0.030000\n",
            "25%    1990.000000  354.050000   0.050000\n",
            "50%    2001.000000  370.570000   0.060000\n",
            "75%    2012.000000  392.650000   0.070000\n",
            "max    2023.000000  419.320000   0.150000\n",
            "\n",
            "Summary Statistics (All Data):\n",
            "              year        mean        unc\n",
            "count    45.000000   45.000000  45.000000\n",
            "mean   2001.000000  373.788444   0.062889\n",
            "std      13.133926   24.468572   0.020848\n",
            "min    1979.000000  336.850000   0.030000\n",
            "25%    1990.000000  354.050000   0.050000\n",
            "50%    2001.000000  370.570000   0.060000\n",
            "75%    2012.000000  392.650000   0.070000\n",
            "max    2023.000000  419.320000   0.150000\n"
          ]
        }
      ]
    }
  ]
}
